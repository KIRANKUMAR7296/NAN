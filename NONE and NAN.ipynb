{
 "cells": [
  {
   "cell_type": "markdown",
   "metadata": {},
   "source": [
    "## Dealing with NaN and None in NumPy and Pandas."
   ]
  },
  {
   "cell_type": "code",
   "execution_count": 1,
   "metadata": {},
   "outputs": [],
   "source": [
    "import numpy as np\n",
    "import pandas as pd"
   ]
  },
  {
   "cell_type": "markdown",
   "metadata": {},
   "source": [
    "## NAN and None in NumPy\n",
    "\n",
    "### NONE : Python's Singleton Object used for Missing Data.\n",
    "\n",
    "**As a Python Object None cannot be used in any Arbitrary NumPy / Pandas Array.**\n",
    "\n",
    "**But None can be used in Arrays with Data Type Object**"
   ]
  },
  {
   "cell_type": "code",
   "execution_count": 2,
   "metadata": {},
   "outputs": [
    {
     "name": "stdout",
     "output_type": "stream",
     "text": [
      "Array : [1 2 3 None 4]\n",
      "Data Type : object\n",
      "Type of Array : <class 'numpy.ndarray'>\n",
      "Type of Elements inside Array : <class 'int'>\n"
     ]
    }
   ],
   "source": [
    "Array = np.array([1, 2, 3, None, 4])\n",
    "print(f'Array : {Array}')\n",
    "print(f'Data Type : {Array.dtype}')\n",
    "print(f'Type of Array : {type(Array)}') \n",
    "print(f'Type of Elements inside Array : {type(Array[0])}') "
   ]
  },
  {
   "cell_type": "markdown",
   "metadata": {},
   "source": [
    "**Unlike other Objects we cannot perform Aggregations like sum() or min() across an Array with a None Value, we will generally get an Error.**\n",
    "\n",
    "**Addition between an Integer and None is Undefined.**\n",
    "\n",
    "---------------------------------------------------------------------------------------------------------------------------\n",
    "\n",
    "### NAN : Missing Numerical Data\n",
    "\n",
    "**NAN is a Special value which is part of the IEEE Floating Point Specification.**\n",
    "\n",
    "**NAN is a Floating Point Value, there is no Equivalent NAN values for Integers, Strings and other Data Types.**\n",
    "\n",
    "**NAN is bit like a Virus, it Infects any other Object it Touches, Means the Arithmetic with NAN will give another NAN.**"
   ]
  },
  {
   "cell_type": "code",
   "execution_count": 3,
   "metadata": {},
   "outputs": [
    {
     "name": "stdout",
     "output_type": "stream",
     "text": [
      "nan\n",
      "nan\n"
     ]
    }
   ],
   "source": [
    "print(1 + np.NAN)\n",
    "print(0 * np.NAN)"
   ]
  },
  {
   "cell_type": "markdown",
   "metadata": {},
   "source": [
    "**This Means that Aggregates over the Values are well defined (They don't Result in an Error) but not always Useful.**"
   ]
  },
  {
   "cell_type": "code",
   "execution_count": 4,
   "metadata": {},
   "outputs": [
    {
     "name": "stdout",
     "output_type": "stream",
     "text": [
      "Sum : nan\n",
      "Min : nan\n",
      "Max : nan\n",
      "Data Type : float64\n"
     ]
    }
   ],
   "source": [
    "Array = np.array([1, 2, 3, np.NAN])\n",
    "print(f'Sum : {Array.sum()}')\n",
    "print(f'Min : {Array.max()}')\n",
    "print(f'Max : {Array.min()}')\n",
    "print(f'Data Type : {Array.dtype}')"
   ]
  },
  {
   "cell_type": "markdown",
   "metadata": {},
   "source": [
    "**NumPy does provides some Special Aggregations ( Functions ) that will ignore the Missing Values**"
   ]
  },
  {
   "cell_type": "code",
   "execution_count": 5,
   "metadata": {},
   "outputs": [
    {
     "name": "stdout",
     "output_type": "stream",
     "text": [
      "Sum : 6.0\n",
      "Min : 1.0\n",
      "Max : 3.0\n"
     ]
    }
   ],
   "source": [
    "print(f'Sum : {np.nansum(Array)}')\n",
    "print(f'Min : {np.nanmin(Array)}')\n",
    "print(f'Max : {np.nanmax(Array)}')"
   ]
  },
  {
   "cell_type": "markdown",
   "metadata": {},
   "source": [
    "**In NumPy 'NAN', 'NaN' and 'nan' are Same things**"
   ]
  },
  {
   "cell_type": "code",
   "execution_count": 6,
   "metadata": {},
   "outputs": [
    {
     "name": "stdout",
     "output_type": "stream",
     "text": [
      "True\n"
     ]
    }
   ],
   "source": [
    "print(np.NAN is np.NaN is np.nan)"
   ]
  },
  {
   "cell_type": "markdown",
   "metadata": {},
   "source": [
    "---------------------------------------------------------------------------------------------------------------------------\n",
    "\n",
    "## NAN and None in Pandas\n",
    "\n",
    "**Pandas handles both Interchangeably, Converting them where Appropriate.**\n",
    "\n",
    "**Pandas Automatically Typecasts when Missing Values (NaN) and Null Values are present**\n",
    "\n",
    "**The Moment we Add a None or NaN in Integer Series it will type cast to Float Point type**\n",
    "\n",
    "**1.Integer**"
   ]
  },
  {
   "cell_type": "code",
   "execution_count": 7,
   "metadata": {},
   "outputs": [
    {
     "name": "stdout",
     "output_type": "stream",
     "text": [
      "Before Adding NaN : \n",
      "0    1\n",
      "1    2\n",
      "dtype: int64\n",
      "\n",
      "After Adding NaN : \n",
      "0    NaN\n",
      "1    2.0\n",
      "dtype: float64\n"
     ]
    }
   ],
   "source": [
    "A = pd.Series([1, 2])\n",
    "print(f'Before Adding NaN : \\n{A}')\n",
    "\n",
    "print()\n",
    "\n",
    "A[0] = np.nan\n",
    "print(f'After Adding NaN : \\n{A}')"
   ]
  },
  {
   "cell_type": "code",
   "execution_count": 8,
   "metadata": {},
   "outputs": [
    {
     "name": "stdout",
     "output_type": "stream",
     "text": [
      "Before Adding None : \n",
      "0    1\n",
      "1    2\n",
      "dtype: int64\n",
      "\n",
      "After Adding None : \n",
      "0    NaN\n",
      "1    2.0\n",
      "dtype: float64\n"
     ]
    }
   ],
   "source": [
    "A = pd.Series([1, 2])\n",
    "print(f'Before Adding None : \\n{A}')\n",
    "\n",
    "print()\n",
    "\n",
    "A[0] = None\n",
    "print(f'After Adding None : \\n{A}')"
   ]
  },
  {
   "cell_type": "markdown",
   "metadata": {},
   "source": [
    "**Pandas cast the Integer Array to Floating Point, Pandas also converts the None to a NaN Value.**\n",
    "\n",
    "---------------------------------------------------------------------------------------------------------------------------\n",
    "**2.Float**"
   ]
  },
  {
   "cell_type": "code",
   "execution_count": 9,
   "metadata": {},
   "outputs": [
    {
     "name": "stdout",
     "output_type": "stream",
     "text": [
      "Before Adding NaN : \n",
      "0    1.1\n",
      "1    2.1\n",
      "dtype: float64\n",
      "\n",
      "After Adding NaN : \n",
      "0    NaN\n",
      "1    2.1\n",
      "dtype: float64\n"
     ]
    }
   ],
   "source": [
    "A = pd.Series([1.1, 2.1])\n",
    "print(f'Before Adding NaN : \\n{A}')\n",
    "\n",
    "print()\n",
    "\n",
    "A[0] = np.nan\n",
    "print(f'After Adding NaN : \\n{A}')"
   ]
  },
  {
   "cell_type": "code",
   "execution_count": 10,
   "metadata": {},
   "outputs": [
    {
     "name": "stdout",
     "output_type": "stream",
     "text": [
      "Before Adding None : \n",
      "0    1.1\n",
      "1    2.1\n",
      "dtype: float64\n",
      "\n",
      "After Adding None : \n",
      "0    NaN\n",
      "1    2.1\n",
      "dtype: float64\n"
     ]
    }
   ],
   "source": [
    "A = pd.Series([1.1, 2.1])\n",
    "print(f'Before Adding None : \\n{A}')\n",
    "\n",
    "print()\n",
    "\n",
    "A[0] = None\n",
    "print(f'After Adding None : \\n{A}')"
   ]
  },
  {
   "cell_type": "markdown",
   "metadata": {},
   "source": [
    "**No Change on Float, The Data Type remains Float itself.**\n",
    "\n",
    "---------------------------------------------------------------------------------------------------------------------------\n",
    "**3.Boolean**"
   ]
  },
  {
   "cell_type": "code",
   "execution_count": 11,
   "metadata": {},
   "outputs": [
    {
     "name": "stdout",
     "output_type": "stream",
     "text": [
      "Before Adding NaN : \n",
      "0     True\n",
      "1    False\n",
      "dtype: bool\n",
      "\n",
      "After Adding NaN : \n",
      "0    NaN\n",
      "1    0.0\n",
      "dtype: float64\n"
     ]
    }
   ],
   "source": [
    "A = pd.Series([True, False])\n",
    "print(f'Before Adding NaN : \\n{A}')\n",
    "\n",
    "print()\n",
    "\n",
    "A[0] = np.nan\n",
    "print(f'After Adding NaN : \\n{A}')"
   ]
  },
  {
   "cell_type": "markdown",
   "metadata": {},
   "source": [
    "**Pandas cast the Boolean Array to Floating Point if NaN is Added.**"
   ]
  },
  {
   "cell_type": "code",
   "execution_count": 12,
   "metadata": {},
   "outputs": [
    {
     "name": "stdout",
     "output_type": "stream",
     "text": [
      "Before Adding None : \n",
      "0     True\n",
      "1    False\n",
      "dtype: bool\n",
      "\n",
      "After Adding None : \n",
      "0    False\n",
      "1    False\n",
      "dtype: bool\n"
     ]
    }
   ],
   "source": [
    "A = pd.Series([True, False])\n",
    "print(f'Before Adding None : \\n{A}')\n",
    "\n",
    "print()\n",
    "\n",
    "A[0] = None\n",
    "print(f'After Adding None : \\n{A}')"
   ]
  },
  {
   "cell_type": "markdown",
   "metadata": {},
   "source": [
    "**Pandas consider None as False and Data Type remains Boolean.**\n",
    "\n",
    "---------------------------------------------------------------------------------------------------------------------------\n",
    "**4.Object**"
   ]
  },
  {
   "cell_type": "code",
   "execution_count": 13,
   "metadata": {},
   "outputs": [
    {
     "name": "stdout",
     "output_type": "stream",
     "text": [
      "Before Adding NaN : \n",
      "0      Apple\n",
      "1    Samsung\n",
      "dtype: object\n",
      "\n",
      "After Adding NaN : \n",
      "0        NaN\n",
      "1    Samsung\n",
      "dtype: object\n"
     ]
    }
   ],
   "source": [
    "A = pd.Series(['Apple', 'Samsung'])\n",
    "print(f'Before Adding NaN : \\n{A}')\n",
    "\n",
    "print()\n",
    "\n",
    "A[0] = np.NaN\n",
    "print(f'After Adding NaN : \\n{A}')"
   ]
  },
  {
   "cell_type": "code",
   "execution_count": 14,
   "metadata": {},
   "outputs": [
    {
     "name": "stdout",
     "output_type": "stream",
     "text": [
      "Before Adding None : \n",
      "0      Apple\n",
      "1    Samsung\n",
      "dtype: object\n",
      "\n",
      "After Adding None : \n",
      "0       None\n",
      "1    Samsung\n",
      "dtype: object\n"
     ]
    }
   ],
   "source": [
    "A = pd.Series(['Apple', 'Samsung'])\n",
    "print(f'Before Adding None : \\n{A}')\n",
    "\n",
    "print()\n",
    "\n",
    "A[0] = None\n",
    "print(f'After Adding None : \\n{A}')"
   ]
  },
  {
   "cell_type": "markdown",
   "metadata": {},
   "source": [
    "**No Change on Objects**\n",
    "\n",
    "---------------------------------------------------------------------------------------------------------------------------\n",
    "## Operating on Null Values\n",
    "\n",
    "**Pandas uses None and NaN as Interchangeable for indicating Missing Values and Null Values.**\n",
    "\n",
    "**There are several useful Methods in Pandas for Detecting, Replacing and Removing Missing and Null Values.**"
   ]
  },
  {
   "cell_type": "code",
   "execution_count": 15,
   "metadata": {},
   "outputs": [],
   "source": [
    "A = pd.Series([1, 2, 3, np.nan])\n",
    "B = pd.Series([1, 2, 3, None])"
   ]
  },
  {
   "cell_type": "markdown",
   "metadata": {},
   "source": [
    "### Detecting Missing and Null Values :\n",
    "**1.`isnull()` : Generate a Boolean mask Indicating Missing Values and Null Values**"
   ]
  },
  {
   "cell_type": "code",
   "execution_count": 16,
   "metadata": {},
   "outputs": [
    {
     "name": "stdout",
     "output_type": "stream",
     "text": [
      "Series with Missing Value : \n",
      "0    False\n",
      "1    False\n",
      "2    False\n",
      "3     True\n",
      "dtype: bool\n",
      "\n",
      "Series with Null Value : \n",
      "0    False\n",
      "1    False\n",
      "2    False\n",
      "3     True\n",
      "dtype: bool\n"
     ]
    }
   ],
   "source": [
    "print(f'Series with Missing Value : \\n{A.isnull()}')\n",
    "print()\n",
    "print(f'Series with Null Value : \\n{B.isnull()}')"
   ]
  },
  {
   "cell_type": "markdown",
   "metadata": {},
   "source": [
    "**2.`isnull()` : Similar to isnull() also Generate a Boolean mask Indicating Missing Values and Null Values**"
   ]
  },
  {
   "cell_type": "code",
   "execution_count": 17,
   "metadata": {},
   "outputs": [
    {
     "name": "stdout",
     "output_type": "stream",
     "text": [
      "Series with Missing Value : \n",
      "0    False\n",
      "1    False\n",
      "2    False\n",
      "3     True\n",
      "dtype: bool\n",
      "\n",
      "Series with Null Value : \n",
      "0    False\n",
      "1    False\n",
      "2    False\n",
      "3     True\n",
      "dtype: bool\n"
     ]
    }
   ],
   "source": [
    "print(f'Series with Missing Value : \\n{A.isna()}')\n",
    "print()\n",
    "print(f'Series with Null Value : \\n{B.isna()}')"
   ]
  },
  {
   "cell_type": "markdown",
   "metadata": {},
   "source": [
    "**3.`notnull()` : Opposite of isnull()**"
   ]
  },
  {
   "cell_type": "code",
   "execution_count": 18,
   "metadata": {},
   "outputs": [
    {
     "name": "stdout",
     "output_type": "stream",
     "text": [
      "Series with Missing Value : \n",
      "0     True\n",
      "1     True\n",
      "2     True\n",
      "3    False\n",
      "dtype: bool\n",
      "\n",
      "Series with Null Value : \n",
      "0     True\n",
      "1     True\n",
      "2     True\n",
      "3    False\n",
      "dtype: bool\n"
     ]
    }
   ],
   "source": [
    "print(f'Series with Missing Value : \\n{A.notnull()}')\n",
    "print()\n",
    "print(f'Series with Null Value : \\n{B.notnull()}')"
   ]
  },
  {
   "cell_type": "markdown",
   "metadata": {},
   "source": [
    "### Dropping Missing and Null Values :\n",
    "**`dropna()` : Removes the Missing Values and Null Values**"
   ]
  },
  {
   "cell_type": "code",
   "execution_count": 19,
   "metadata": {},
   "outputs": [
    {
     "name": "stdout",
     "output_type": "stream",
     "text": [
      "Series with Missing Value : \n",
      "0    1.0\n",
      "1    2.0\n",
      "2    3.0\n",
      "dtype: float64\n",
      "\n",
      "Series with Null Value : \n",
      "0    1.0\n",
      "1    2.0\n",
      "2    3.0\n",
      "dtype: float64\n"
     ]
    }
   ],
   "source": [
    "print(f'Series with Missing Value : \\n{A.dropna()}')\n",
    "print()\n",
    "print(f'Series with Null Value : \\n{B.dropna()}')"
   ]
  },
  {
   "cell_type": "markdown",
   "metadata": {},
   "source": [
    "### Filling Missing and Null Values :\n",
    "**`fillna()` : Fill or Impute Missing Values and Null Values**"
   ]
  },
  {
   "cell_type": "code",
   "execution_count": 20,
   "metadata": {},
   "outputs": [
    {
     "name": "stdout",
     "output_type": "stream",
     "text": [
      "Series with Missing Value : \n",
      "0    1.0\n",
      "1    2.0\n",
      "2    3.0\n",
      "3    0.0\n",
      "dtype: float64\n",
      "\n",
      "Series with Null Value : \n",
      "0    1.0\n",
      "1    2.0\n",
      "2    3.0\n",
      "3    0.0\n",
      "dtype: float64\n"
     ]
    }
   ],
   "source": [
    "print(f'Series with Missing Value : \\n{A.fillna(0)}')\n",
    "print()\n",
    "print(f'Series with Null Value : \\n{B.fillna(0)}')"
   ]
  }
 ],
 "metadata": {
  "kernelspec": {
   "display_name": "Python 3",
   "language": "python",
   "name": "python3"
  },
  "language_info": {
   "codemirror_mode": {
    "name": "ipython",
    "version": 3
   },
   "file_extension": ".py",
   "mimetype": "text/x-python",
   "name": "python",
   "nbconvert_exporter": "python",
   "pygments_lexer": "ipython3",
   "version": "3.7.4"
  }
 },
 "nbformat": 4,
 "nbformat_minor": 2
}
